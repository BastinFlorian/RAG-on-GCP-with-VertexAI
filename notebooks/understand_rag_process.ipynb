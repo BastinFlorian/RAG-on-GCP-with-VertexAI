{
 "cells": [
  {
   "cell_type": "code",
   "execution_count": 1,
   "id": "a59ac49b-5cb2-4d53-bf24-068ff8b47e6d",
   "metadata": {},
   "outputs": [],
   "source": [
    "import sys\n",
    "import json\n",
    "import pandas as pd\n",
    "import langchain\n",
    "import numpy as np\n",
    "\n",
    "from typing import Optional\n",
    "from google.cloud import aiplatform\n",
    "from langchain.document_loaders import ConfluenceLoader\n",
    "from langchain.text_splitter import MarkdownHeaderTextSplitter\n",
    "from langchain.text_splitter import RecursiveCharacterTextSplitter\n",
    "\n",
    "from vertexai.language_models import TextEmbeddingModel\n",
    "\n",
    "sys.path.append('../')\n",
    "\n",
    "from src.upload_data.config import (\n",
    "    CONFLUENCE_URL\n",
    "    CONFLUENCE_API_KEY,\n",
    "    CONFLUENCE_SPACE_NAMES,\n",
    "    CONFLUENCE_USERNAME,\n",
    "    EMBEDDING_PATH,\n",
    "    PROJECT_ID,\n",
    "    REGION,\n",
    "    BUCKET_NAME\n",
    ")"
   ]
  },
  {
   "cell_type": "code",
   "execution_count": 2,
   "id": "683fd9a5-b598-4220-8739-09fd01179df7",
   "metadata": {},
   "outputs": [],
   "source": [
    "def load_from_confluence_loader(\n",
    "    confluence_url=CONFLUENCE_URL\n",
    "    username=CONFLUENCE_USERNAME,\n",
    "    api_key=CONFLUENCE_API_KEY,\n",
    "    space_key=CONFLUENCE_SPACE_NAMES,\n",
    "):\n",
    "    \"\"\"Load HTML files from Confluence\"\"\"\n",
    "    loader = ConfluenceLoader(\n",
    "        url=confluence_url,\n",
    "        username=username,\n",
    "        api_key=api_key\n",
    "    )\n",
    "\n",
    "    docs = loader.load(\n",
    "        space_key=space_key,\n",
    "        max_pages=50,\n",
    "        keep_markdown_format=True\n",
    "    )\n",
    "\n",
    "    return docs"
   ]
  },
  {
   "cell_type": "code",
   "execution_count": 3,
   "id": "f542b759-a8c2-4a25-80d4-74dd376c0ddc",
   "metadata": {},
   "outputs": [],
   "source": [
    "docs = load_from_confluence_loader()"
   ]
  },
  {
   "cell_type": "code",
   "execution_count": 14,
   "id": "48a753f8-33a4-43c4-894b-aea1d515cf4f",
   "metadata": {},
   "outputs": [
    {
     "data": {
      "text/plain": [
       "Document(page_content='### **MON MATÉRIEL PHOTO 📷 :**\\n\\n* Un mur blanc ou un drap blanc (tendre le drap si il n\\'y a pas de mur blanc)\\n* Un appareil photo ou un téléphone\\n* Un trépied ou un super photographe (on peut mettre, mari, femme, parents, voisins, enfants etc.. à contribution avec une petite boite de chocolat ça passe bien)\\n* Cadrage buste entier.\\n\\n### **ÉTAPE 1: La mise en place de votre “studio photo”.**\\n\\n* Trouvez un mur blanc, de préférence dans une pièce qui reçoit beaucoup de lumière du jour. Si vous n’avez pas de mur blanc, ou si celui que vous avez est recouvert de photos, accrochez un grand drap blanc au plafond et faites-le pendre jusqu’au sol.\\n* Ouvrez les volets et laissez la lumière du soleil inonder la pièce. Organisez-vous pour commencer votre séance photo lorsque vous savez que vous allez recevoir beaucoup de lumière du soleil dans cette pièce.\\n* Procurez-vous des lampes avec un abat-jour fermé. Servez-vous des lampes pour remplir la pièce de lumière douce dépourvue de toute ombre.\\n\\nUne de vos lumières doit être dirigée vers le plafond, ce qui créera un éclat chaud contre la peinture blanche.\\n\\nServez-vous d’une autre lumière pour “remplir le vide”. Posez-la au fond de la pièce, suffisamment loin pour ne pas créer d’ombre.\\n\\n### **ÉTAPE 2 : Le modèle**\\n\\nDécidez de votre “look” et faites :\\n\\n* 1 photo corpo\\n* 1 photo un peu plus décalée (pose originale, expression crazy, c\\'est libre !)\\n* 1 photo \"venez comme vous êtes\" avec pour but de vous représenter vous au delà du cadre corpo\\n\\n\\n\\t+ Avec un accessoire qui vous représente !\\n\\n### **ÉTAPE 3 : La séance photo**\\n\\n*Préparez l’appareil photo ou votre téléphone.*\\n\\n1. J’ai un photographe: Demander à ce qu’on me prenne en photo avec mon meilleur profil “I am a STAR”\\n2. Je n’ai pas de photographe : utilisez un trépied ou une surface plate (j’ai entendu dire que ELD et ADC avaient des techniques pour créer un trépied avec un carton). Et utiliser le minuteur de l’appareil photo ou du téléphone.\\n3. Cadrage buste entier.\\n\\n### **ÉTAPE 4: Retouchez vos photos.**\\n\\n* Retoucher avec votre téléphone, pour y mettre un filtre noir et blanc\\n* Transférez vos photos sur votre ordinateur et utilisez un logiciel de retouches d’images pour les recadrer, leur appliquer des filtres plus intéressants, modifier le contraste, etc.\\n\\nVoici des[***exemples***](https://photoheart.zenfolio.com/p967679086) **!**\\n\\nPour centraliser les photos des Octos :\\xa0[OCTO\\'S PICS](https://drive.google.com/drive/folders/1aCBPsry9qhWMj7b5lplGBcdrxsbQXTa2?usp=sharing) (photo maison OCTO) - Format enregistrement **:** poly.png.\\xa0\\n\\n', metadata={'title': 'Comment faire ma photo pro à la maison', 'id': '589826', 'source': 'https://florianbastin.atlassian.net/wiki/spaces/~70121e1c1cf2b203a49dabc6762c43bdbfe05/pages/589826'})"
      ]
     },
     "execution_count": 14,
     "metadata": {},
     "output_type": "execute_result"
    }
   ],
   "source": [
    "docs[1]"
   ]
  },
  {
   "cell_type": "code",
   "execution_count": 15,
   "id": "28df39a3-bab6-4efe-8f50-4379eb5db0a3",
   "metadata": {},
   "outputs": [],
   "source": [
    "def splitter(docs):\n",
    "    # Markdown\n",
    "    headers_to_split_on = [\n",
    "        (\"#\", \"Titre 1\"),\n",
    "        (\"##\", \"Sous-titre 1\"),\n",
    "        (\"###\", \"Sous-titre 2\"),\n",
    "    ]\n",
    "\n",
    "    markdown_splitter = MarkdownHeaderTextSplitter(headers_to_split_on=headers_to_split_on)\n",
    "\n",
    "    # Split based on markdown and add original metadata\n",
    "    md_docs = []\n",
    "    for doc in docs:\n",
    "        md_doc = markdown_splitter.split_text(doc.page_content)\n",
    "        for i in range(len(md_doc)):\n",
    "            md_doc[i].metadata = md_doc[i].metadata | doc.metadata\n",
    "        md_docs.extend(md_doc)\n",
    "\n",
    "    # RecursiveTextSplitter\n",
    "    from langchain.text_splitter import RecursiveCharacterTextSplitter\n",
    "\n",
    "    # Chunk size big enough\n",
    "    splitter = RecursiveCharacterTextSplitter(\n",
    "        chunk_size=500,\n",
    "        chunk_overlap=20,\n",
    "        separators=[\"\\n\\n\", \"\\n\", \"(?<=\\. )\", \" \", \"\"]\n",
    "    )\n",
    "\n",
    "    splitted_docs = splitter.split_documents(md_docs)\n",
    "\n",
    "    return splitted_docs"
   ]
  },
  {
   "cell_type": "code",
   "execution_count": 16,
   "id": "f56913ab-1f9b-4f00-bb94-650d504ab0fc",
   "metadata": {},
   "outputs": [
    {
     "data": {
      "text/plain": [
       "Document(page_content='Saluez vos collègues qui souhaitent connaître votre nom, vos pronoms, votre rôle, votre équipe et votre emplacement (ou si vous télétravaillez).', metadata={'title': \"Vue d'ensemble\", 'id': '98394', 'source': 'https://florianbastin.atlassian.net/wiki/spaces/~70121e1c1cf2b203a49dabc6762c43bdbfe05/overview'})"
      ]
     },
     "execution_count": 16,
     "metadata": {},
     "output_type": "execute_result"
    }
   ],
   "source": [
    "splitted_docs = splitter(docs)\n",
    "splitted_docs[0]"
   ]
  },
  {
   "cell_type": "code",
   "execution_count": 17,
   "id": "9d783892-ca88-48bd-ab64-c8d886a935c4",
   "metadata": {},
   "outputs": [],
   "source": [
    "def init_sample(\n",
    "    project: Optional[str] = None,\n",
    "    location: Optional[str] = None,\n",
    "    experiment: Optional[str] = None,\n",
    "    staging_bucket: Optional[str] = None,\n",
    "    credentials = None,\n",
    "    encryption_spec_key_name: Optional[str] = None,\n",
    "    service_account: Optional[str] = None,\n",
    "):\n",
    "\n",
    "    from google.cloud import aiplatform\n",
    "\n",
    "    aiplatform.init(\n",
    "        project=project,\n",
    "        location=location,\n",
    "        experiment=experiment,\n",
    "        staging_bucket=staging_bucket,\n",
    "        credentials=credentials,\n",
    "        encryption_spec_key_name=encryption_spec_key_name,\n",
    "        service_account=service_account,\n",
    "    )"
   ]
  },
  {
   "cell_type": "code",
   "execution_count": 18,
   "id": "9b5bd1bb-3090-4400-932a-090773ab57cb",
   "metadata": {},
   "outputs": [],
   "source": [
    "from google.cloud import aiplatform\n",
    "\n",
    "aiplatform.init(\n",
    "    project=PROJECT_ID,\n",
    "    location=REGION,\n",
    "    staging_bucket=f\"gs://{BUCKET_NAME}\"\n",
    ")"
   ]
  },
  {
   "cell_type": "code",
   "execution_count": 19,
   "id": "b141854a-f41a-42f2-a48a-19ed1f2e00a7",
   "metadata": {},
   "outputs": [],
   "source": [
    "model = TextEmbeddingModel.from_pretrained(\"textembedding-gecko@001\")\n"
   ]
  },
  {
   "cell_type": "code",
   "execution_count": 20,
   "id": "d7f9fcca-9114-43fc-9f57-11585e17ae89",
   "metadata": {},
   "outputs": [],
   "source": [
    "import time\n",
    "EMBEDDING_PATH = '../data/embeddings.json'\n",
    "with open(EMBEDDING_PATH, \"w\") as f:\n",
    "    time_st = time.time()\n",
    "    for doc_id, splitted_doc in enumerate(splitted_docs):\n",
    "        try:\n",
    "            embeddings = model.get_embeddings([splitted_doc.page_content])\n",
    "        except:\n",
    "            sleeping_quota_time = 70 - (time.time() - time_st)\n",
    "            print(f\"sleeping for {sleeping_quota_time} because of TextEmbedding quotas\")\n",
    "            time.sleep(sleeping_quota_time) # sleep because max of X requests per minutes\n",
    "            time_st = time.time()\n",
    "            embeddings = model.get_embeddings([splitted_doc.page_content])\n",
    "\n",
    "        id_embeddings = {\n",
    "            \"id\": doc_id,\n",
    "            \"embedding\": [float(x) for x in list(embeddings[0].values)]\n",
    "        }\n",
    "        json.dump(id_embeddings, f)\n",
    "        f.write(\"\\n\")"
   ]
  },
  {
   "cell_type": "code",
   "execution_count": 38,
   "id": "47068893-ecd5-4836-8b76-1813489b4114",
   "metadata": {},
   "outputs": [],
   "source": [
    "# Endpoint"
   ]
  },
  {
   "cell_type": "code",
   "execution_count": 39,
   "id": "4461ce37-6ea6-453b-9c10-5a93e8fc86f9",
   "metadata": {},
   "outputs": [
    {
     "data": {
      "text/plain": [
       "768"
      ]
     },
     "execution_count": 39,
     "metadata": {},
     "output_type": "execute_result"
    }
   ],
   "source": [
    "len(embeddings[0].values)"
   ]
  },
  {
   "cell_type": "code",
   "execution_count": 40,
   "id": "cd199d5c-5dc9-4289-9040-c4b6511c7603",
   "metadata": {},
   "outputs": [],
   "source": [
    "index_endpoint_id = \"6440411349930475520\"\n",
    "index_id = \"7038053094231375872\""
   ]
  },
  {
   "cell_type": "code",
   "execution_count": 41,
   "id": "93902e05-0364-4d99-b38e-e20b3ceaa9bb",
   "metadata": {},
   "outputs": [],
   "source": [
    "my_index_endpoint = aiplatform.MatchingEngineIndexEndpoint(\n",
    "    index_endpoint_name=index_endpoint_id\n",
    ")"
   ]
  },
  {
   "cell_type": "code",
   "execution_count": 42,
   "id": "0b6704f6-071a-4afc-a439-bb5c404bd0f1",
   "metadata": {},
   "outputs": [],
   "source": [
    "question = \"Comment accéder à mon comité d'entreprise ?\"\n",
    "question_emb = model.get_embeddings([question])"
   ]
  },
  {
   "cell_type": "code",
   "execution_count": 43,
   "id": "943f1892-3019-40b7-929d-6fce23551541",
   "metadata": {},
   "outputs": [],
   "source": [
    "# Find neighbors"
   ]
  },
  {
   "cell_type": "code",
   "execution_count": 44,
   "id": "447571e4-035b-49f5-9b18-d48c3000b294",
   "metadata": {},
   "outputs": [],
   "source": [
    "neighbors = my_index_endpoint.find_neighbors(\n",
    "            deployed_index_id=\"basfdeployedindex\",\n",
    "            queries=[np.array(question_emb[0].values)],\n",
    "            num_neighbors=5\n",
    "        )\n"
   ]
  },
  {
   "cell_type": "code",
   "execution_count": 45,
   "id": "08d532b7-9d9e-4da3-99c1-6030745fc53c",
   "metadata": {},
   "outputs": [
    {
     "data": {
      "text/plain": [
       "[[MatchNeighbor(id='105', distance=0.8089103698730469),\n",
       "  MatchNeighbor(id='107', distance=0.7539622783660889),\n",
       "  MatchNeighbor(id='111', distance=0.7379288673400879),\n",
       "  MatchNeighbor(id='46', distance=0.7317922711372375),\n",
       "  MatchNeighbor(id='106', distance=0.7313551902770996)]]"
      ]
     },
     "execution_count": 45,
     "metadata": {},
     "output_type": "execute_result"
    }
   ],
   "source": [
    "neighbors"
   ]
  },
  {
   "cell_type": "code",
   "execution_count": 46,
   "id": "49208be9-86d5-4d18-b87c-a11f6f299d4c",
   "metadata": {},
   "outputs": [
    {
     "name": "stdout",
     "output_type": "stream",
     "text": [
      "page_content='Pour accéder au CE, vous pouvez consultant l’adresse suivante: <https://mon-CE.fr>  \\nSi vous n’avez pas vos identifiants, vous pouvez envoyer un mail à [xxxx@mon-ce.fr](mailto:xxxx@mon-ce.fr), le responsable du comité d’entreprise.  \\nRenseignez les identifiants sur le site du CE et vous pourrez bénéficier de nombreux avantages.' metadata={'Sous-titre 1': 'Comment accéder à mon CE ?', 'title': \"Comité d'entreprise (CE) - Définition et rôles\", 'id': '1933313', 'source': 'https://florianbastin.atlassian.net/wiki/spaces/~70121e1c1cf2b203a49dabc6762c43bdbfe05/pages/1933313'}\n",
      "page_content=\"Le Comité d'Entreprise est chargé de veiller au respect des droits des salariés en matière de travail, de sécurité, de santé et de conditions de travail. Il peut être consulté par la direction de l'entreprise sur différentes questions liées à l'organisation du travail, aux licenciements collectifs, aux restructurations, etc. Il est également informé des projets de l'entreprise et peut émettre des avis.\" metadata={'Sous-titre 1': \"Rôle du Comité d'Entreprise :\", 'Sous-titre 2': '1. Défense des droits des salariés :', 'title': \"Comité d'entreprise (CE) - Définition et rôles\", 'id': '1933313', 'source': 'https://florianbastin.atlassian.net/wiki/spaces/~70121e1c1cf2b203a49dabc6762c43bdbfe05/pages/1933313'}\n",
      "page_content=\"Le Comité d'Entreprise représente les intérêts des salariés auprès de la direction de l'entreprise. Il est un lieu d'échange et de dialogue entre les employés et l'employeur, favorisant ainsi un climat social constructif.\" metadata={'Sous-titre 1': \"Rôle du Comité d'Entreprise :\", 'Sous-titre 2': '5. Représentation des salariés :', 'title': \"Comité d'entreprise (CE) - Définition et rôles\", 'id': '1933313', 'source': 'https://florianbastin.atlassian.net/wiki/spaces/~70121e1c1cf2b203a49dabc6762c43bdbfe05/pages/1933313'}\n",
      "page_content='N’hésite pas à aller explorer [PeopleDoc](https://octo-technology.eu.people-ask.com/employee/category/conges-et-absences/) !  \\n[*Le Glossaire*Glossaire](/wiki/spaces/RH/pages/9928789)(pour y voir plus clair dans tous ces termes étranges que les Octos emploient)  \\n[*Le Blog OCTO*](https://blog.octo.com/)  \\n[*La page Linkedin*](https://www.linkedin.com/company/octo-technology/mycompany/)  \\n[*La page Twitter*](http://twitter.com/#!/OCTOTechnology)' metadata={'Sous-titre 1': 'PLUS D’INFO UTILES', 'title': 'Ton arrivée chez Octo', 'id': '884737', 'source': 'https://florianbastin.atlassian.net/wiki/spaces/~70121e1c1cf2b203a49dabc6762c43bdbfe05/pages/884737'}\n",
      "page_content=\"Le Comité d'Entreprise joue un rôle essentiel dans le dialogue social au sein de l'entreprise. Ses principales missions sont les suivantes :\" metadata={'Sous-titre 1': \"Rôle du Comité d'Entreprise :\", 'title': \"Comité d'entreprise (CE) - Définition et rôles\", 'id': '1933313', 'source': 'https://florianbastin.atlassian.net/wiki/spaces/~70121e1c1cf2b203a49dabc6762c43bdbfe05/pages/1933313'}\n"
     ]
    }
   ],
   "source": [
    "for neighbor in neighbors[0]:\n",
    "    doc_id = neighbor.id\n",
    "    print(splitted_docs[int(doc_id)])"
   ]
  },
  {
   "cell_type": "code",
   "execution_count": null,
   "id": "4d3c391e-46f2-49ef-8c77-9d7a5ed215e4",
   "metadata": {},
   "outputs": [],
   "source": [
    "# Firestore\n"
   ]
  },
  {
   "cell_type": "code",
   "execution_count": 22,
   "id": "d6e378ee-e87d-4d18-9663-27c505e7966e",
   "metadata": {},
   "outputs": [],
   "source": [
    "from tqdm import tqdm\n",
    "\n",
    "import firebase_admin\n",
    "from firebase_admin import firestore"
   ]
  },
  {
   "cell_type": "code",
   "execution_count": null,
   "id": "c02b7255-8214-430d-9ad2-5386dcd297ec",
   "metadata": {},
   "outputs": [],
   "source": [
    "from google.cloud import firestore\n",
    "import uuid\n",
    "\n",
    "from google.cloud import datastore\n",
    "db = datastore.Client(project=PROJECT_ID)"
   ]
  },
  {
   "cell_type": "code",
   "execution_count": null,
   "id": "88b557b2-d2c9-4d1c-b820-c01f6b67f21d",
   "metadata": {},
   "outputs": [],
   "source": [
    "PROJECT_ID"
   ]
  },
  {
   "cell_type": "code",
   "execution_count": 32,
   "id": "4064e26f-078e-4fde-8585-d61d1cb433fc",
   "metadata": {},
   "outputs": [],
   "source": [
    "#app = firebase_admin.initialize_app()\n",
    "db = firestore.Client(project=PROJECT_ID, database=\"basf-rag\")"
   ]
  },
  {
   "cell_type": "code",
   "execution_count": 33,
   "id": "6aa234d1-790b-419e-afce-c4958889a127",
   "metadata": {},
   "outputs": [],
   "source": [
    "# Create Agent"
   ]
  },
  {
   "cell_type": "code",
   "execution_count": 34,
   "id": "5f195bdb-a656-4f4a-89ba-3605dd8300d9",
   "metadata": {},
   "outputs": [],
   "source": [
    "from typing import Any, Dict, List, Optional, Union\n",
    "\n",
    "import numpy as np\n",
    "import firebase_admin\n",
    "from firebase_admin import firestore\n",
    "from google.cloud import aiplatform\n",
    "from langchain.schema import BaseRetriever, Document\n",
    "from langchain.callbacks.manager import CallbackManagerForRetrieverRun, AsyncCallbackManagerForRetrieverRun\n",
    "from langchain.embeddings.base import Embeddings\n",
    "from langchain.embeddings import TensorflowHubEmbeddings"
   ]
  },
  {
   "cell_type": "code",
   "execution_count": 35,
   "id": "7565874e-2937-4af9-8b52-eb422b95e23f",
   "metadata": {},
   "outputs": [],
   "source": [
    "def make_doc(doc):\n",
    "    metadata_keys_to_add = [\n",
    "        'source',\n",
    "        'title',\n",
    "        'Titre 1',\n",
    "        'Sous-titre 1',\n",
    "        'Sous-titre 2'\n",
    "    ]\n",
    "\n",
    "    answers = {\n",
    "        \"content\": doc.page_content\n",
    "    }\n",
    "\n",
    "    for key in doc.metadata.keys():\n",
    "        if key in metadata_keys_to_add:\n",
    "            answers[key] = doc.metadata[key]\n",
    "\n",
    "    return answers"
   ]
  },
  {
   "cell_type": "code",
   "execution_count": 37,
   "id": "991657b5-d0ac-4af7-a107-8de44c755693",
   "metadata": {},
   "outputs": [],
   "source": [
    "# for doc_id, splitted_doc in enumerate(splitted_docs):\n",
    "#     doc = make_doc(splitted_doc)\n",
    "#     db.collection(\"basf-rag\").document(str(doc_id)).set(doc)"
   ]
  },
  {
   "cell_type": "code",
   "execution_count": 47,
   "id": "84d92471-7628-4132-89d4-6e35c3139b52",
   "metadata": {},
   "outputs": [],
   "source": [
    "class FirestoreRetriever(BaseRetriever):\n",
    "    index_endpoint_name: str\n",
    "    deployed_index_id: str\n",
    "    embeddings: Embeddings\n",
    "    collection: str\n",
    "    top_k: int = 5\n",
    "\n",
    "    def _similarity_search(self, query_emb: np.ndarray):\n",
    "        \"\"\"\n",
    "        Perform a similarity search.\n",
    "\n",
    "        Args:\n",
    "            query_emb: Query represented as an embedding\n",
    "\n",
    "        Returns:\n",
    "            A list of documents most similar to the query\n",
    "        \"\"\"\n",
    "        my_index_endpoint = aiplatform.MatchingEngineIndexEndpoint(\n",
    "            index_endpoint_name=self.index_endpoint_name\n",
    "        )\n",
    "\n",
    "        similar_docs = my_index_endpoint.find_neighbors(\n",
    "            deployed_index_id=self.deployed_index_id,\n",
    "            queries=query_emb,\n",
    "            num_neighbors=self.top_k\n",
    "        )\n",
    "\n",
    "        return similar_docs\n",
    "\n",
    "    def _get_relevant_documents(\n",
    "        self, query: str, *, run_manager: CallbackManagerForRetrieverRun\n",
    "    ) -> List[Document]:\n",
    "        query_embedding = self.embeddings.embed_documents([query])\n",
    "        similar_docs = self._similarity_search(query_embedding)\n",
    "\n",
    "        relevant_docs = []\n",
    "        for doc in similar_docs[0]:\n",
    "            doc_id = doc.id\n",
    "            doc_ref = db.collection(self.collection).document(doc_id)\n",
    "\n",
    "            doc = doc_ref.get()\n",
    "            relevant_docs.append(self._firestore_doc_to_langchain_doc(doc))\n",
    "        return relevant_docs\n",
    "\n",
    "\n",
    "    async def _aget_relevant_documents(\n",
    "        self, query: str, *, run_manager: AsyncCallbackManagerForRetrieverRun\n",
    "    ) -> List[Document]:\n",
    "        raise NotImplementedError()\n",
    "\n",
    "    def _firestore_doc_to_langchain_doc(self, fs_doc) -> Document:\n",
    "        lc_doc = Document(\n",
    "            page_content=fs_doc.get(\"content\")\n",
    "        )\n",
    "        return lc_doc"
   ]
  },
  {
   "cell_type": "code",
   "execution_count": 50,
   "id": "9a0a2c66-e21a-4e14-ac64-ddd6e1759a15",
   "metadata": {},
   "outputs": [],
   "source": [
    "# Lanchain Embedding"
   ]
  },
  {
   "cell_type": "code",
   "execution_count": 52,
   "id": "0201b255-f69c-4290-9cff-61f6e482da92",
   "metadata": {},
   "outputs": [],
   "source": [
    "from langchain.embeddings.vertexai import VertexAIEmbeddings\n",
    "embeddings = VertexAIEmbeddings(project=PROJECT_ID)"
   ]
  },
  {
   "cell_type": "code",
   "execution_count": 65,
   "id": "df67a5fa-29d7-4582-9881-bcde98be6b74",
   "metadata": {},
   "outputs": [],
   "source": [
    "from langchain.prompts import PromptTemplate\n",
    "def get_template():\n",
    "    template = \"\"\"\n",
    "    Given this text extracts:\n",
    "    -----\n",
    "    {context}\n",
    "    -----\n",
    "    Please anwser in French and start with \"Bonjour Monsieur\".\n",
    "    The question is:\n",
    "    Question: {question}\n",
    "    Helpful Answer:\n",
    "    \"\"\"\n",
    "    return template\n",
    "\n",
    "def get_prompt() -> PromptTemplate:\n",
    "    prompt = PromptTemplate(\n",
    "        template=get_template(),\n",
    "        input_variables=[\"context\", \"question\"]\n",
    "    )\n",
    "    return prompt"
   ]
  },
  {
   "cell_type": "code",
   "execution_count": 67,
   "id": "2359a707-49d9-4d46-98c3-aa8c96209ee8",
   "metadata": {},
   "outputs": [],
   "source": [
    "chain_type_kwargs = {\"prompt\": get_prompt()}\n"
   ]
  },
  {
   "cell_type": "code",
   "execution_count": 49,
   "id": "d7f44806-e927-402a-970e-49455ee2e692",
   "metadata": {},
   "outputs": [],
   "source": [
    "# Agent"
   ]
  },
  {
   "cell_type": "code",
   "execution_count": 75,
   "id": "83394779-ec5a-4ed6-98fb-a1333ad64384",
   "metadata": {},
   "outputs": [],
   "source": [
    "index_endpoint_id = \"6440411349930475520\"\n",
    "index_id = \"7038053094231375872\"\n",
    "\n",
    "\n",
    "retriever = FirestoreRetriever(\n",
    "    index_endpoint_name=index_endpoint_id,\n",
    "    deployed_index_id=\"basfdeployedindex\",\n",
    "    collection=\"basf-rag\",\n",
    "    embeddings = embeddings,\n",
    "    top_k=5\n",
    ")"
   ]
  },
  {
   "cell_type": "code",
   "execution_count": 76,
   "id": "10435c59-7a5b-4bea-9a10-c965be1487fc",
   "metadata": {},
   "outputs": [],
   "source": [
    "query = \"when was the college of engineering in the University of Notre Dame established?\"\n",
    "query = \"In what year did the initial degrees get handed out at Notre Dame?\""
   ]
  },
  {
   "cell_type": "code",
   "execution_count": 77,
   "id": "bcc23bbb-4183-4f44-835f-daed9426a91b",
   "metadata": {},
   "outputs": [],
   "source": [
    "from langchain.chat_models import ChatVertexAI\n",
    "from langchain.chains import RetrievalQA"
   ]
  },
  {
   "cell_type": "code",
   "execution_count": 78,
   "id": "669f3df1-aefd-4b42-bbd9-6dbf5c7229c7",
   "metadata": {},
   "outputs": [],
   "source": [
    "llm = ChatVertexAI(location=\"europe-west1\")"
   ]
  },
  {
   "cell_type": "code",
   "execution_count": 79,
   "id": "09028340-10cb-4534-ab36-2eac1e7ef85c",
   "metadata": {},
   "outputs": [],
   "source": [
    "qa = RetrievalQA.from_chain_type(\n",
    "    llm=llm,\n",
    "    chain_type=\"stuff\",\n",
    "    retriever=retriever,\n",
    "    chain_type_kwargs=chain_type_kwargs\n",
    ")"
   ]
  },
  {
   "cell_type": "code",
   "execution_count": 81,
   "id": "eaf64c4f-fb42-4877-9e1d-af793e3e9637",
   "metadata": {},
   "outputs": [
    {
     "name": "stdout",
     "output_type": "stream",
     "text": [
      " Bonjour Monsieur,\n",
      "\n",
      "Pour accéder à votre comité d'entreprise, vous pouvez consulter l'adresse suivante : <https://mon-CE.fr>. \n",
      "Si vous n'avez pas vos identifiants, vous pouvez envoyer un mail à [xxxx@mon-ce.fr](mailto:xxxx@mon-ce.fr), le responsable du comité d'entreprise. \n",
      "Renseignez les identifiants sur le site du CE et vous pourrez bénéficier de nombreux avantages.\n"
     ]
    }
   ],
   "source": [
    "query = \"Comment accéder à mon comité d'entreprise ? \"\n",
    "print(qa.run(query))"
   ]
  },
  {
   "cell_type": "code",
   "execution_count": null,
   "id": "a7161513-84a1-48fa-adb0-9dd2cac592c9",
   "metadata": {},
   "outputs": [],
   "source": []
  }
 ],
 "metadata": {
  "kernelspec": {
   "display_name": "rag-evaluation",
   "language": "python",
   "name": "rag-evaluation"
  },
  "language_info": {
   "codemirror_mode": {
    "name": "ipython",
    "version": 3
   },
   "file_extension": ".py",
   "mimetype": "text/x-python",
   "name": "python",
   "nbconvert_exporter": "python",
   "pygments_lexer": "ipython3",
   "version": "3.10.12"
  }
 },
 "nbformat": 4,
 "nbformat_minor": 5
}
